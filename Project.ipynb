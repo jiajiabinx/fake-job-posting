{
 "cells": [
  {
   "cell_type": "markdown",
   "id": "f33224b2",
   "metadata": {},
   "source": [
    "# COMS 4995 Applied Machine Learning Project"
   ]
  },
  {
   "cell_type": "code",
   "execution_count": 2,
   "id": "079929d7",
   "metadata": {},
   "outputs": [],
   "source": [
    "from sklearn.compose import make_column_transformer\n",
    "from sklearn.model_selection import train_test_split, cross_val_score, KFold, cross_validate\n",
    "from sklearn.pipeline import Pipeline\n",
    "from sklearn.preprocessing import StandardScaler, OneHotEncoder, OrdinalEncoder, TargetEncoder\n",
    "from sklearn.ensemble import RandomForestClassifier\n",
    "import category_encoders as ce\n",
    "from sklearn.metrics import roc_auc_score, confusion_matrix, roc_curve,classification_report,ConfusionMatrixDisplay\n",
    "\n",
    "from imblearn.pipeline import make_pipeline as imb_make_pipeline\n",
    "from imblearn.over_sampling import RandomOverSampler, SMOTE\n",
    "from imblearn.under_sampling import RandomUnderSampler\n",
    "import numpy as np\n",
    "import pandas as pd\n",
    "\n",
    "import numpy as np\n",
    "import pandas as pd\n",
    "import matplotlib.pyplot as plt\n",
    "import seaborn as sns"
   ]
  },
  {
   "cell_type": "markdown",
   "id": "448a4268",
   "metadata": {},
   "source": [
    "## Data Cleaning"
   ]
  },
  {
   "cell_type": "markdown",
   "id": "9438be78",
   "metadata": {},
   "source": [
    "### At this point, we only focused on the non-textual parts of the dataset, leaving the textual fields for later analysis."
   ]
  },
  {
   "cell_type": "markdown",
   "id": "c45994b3",
   "metadata": {},
   "source": [
    "### Summary For Data Cleaning\n",
    "#### Data Cleaning\n",
    "- **Missing Values**: Filled text columns with empty strings and categorical columns with \"Unknown\".\n",
    "- **Salary Range**: Split `salary_range` into `salary_lower`, `salary_upper`, and calculated `salary_variance`.\n",
    "- **Location**: Split `location` into `country`, `state`, and `city` for better geographical analysis.\n",
    "\n",
    "#### Encoding Strategy\n",
    "- **One-Hot Encoding**: Applied to low-cardinality unordered features (`employment_type`).\n",
    "- **Target Encoding**: Used for high-cardinality unordered features (`country`, `state`, `city`, `industry`, `function`, `department`).\n",
    "- **Ordinal Encoding**: Used for ordered features (`required_experience`, `required_education`).\n",
    "- **Standard Scaling**: Applied to numerical salary-related features (`salary_lower`, `salary_upper`, `salary_variance`).\n",
    "\n",
    "#### Pipeline with Sampling\n",
    "- **Integrated Encoding and Sampling**: We should integrate target encoding into the pipeline to ensure it adapts to resampling changes. And it can be accomplished by using a pipeline."
   ]
  },
  {
   "cell_type": "code",
   "execution_count": 3,
   "id": "3071650b",
   "metadata": {},
   "outputs": [
    {
     "data": {
      "text/html": [
       "<div>\n",
       "<style scoped>\n",
       "    .dataframe tbody tr th:only-of-type {\n",
       "        vertical-align: middle;\n",
       "    }\n",
       "\n",
       "    .dataframe tbody tr th {\n",
       "        vertical-align: top;\n",
       "    }\n",
       "\n",
       "    .dataframe thead th {\n",
       "        text-align: right;\n",
       "    }\n",
       "</style>\n",
       "<table border=\"1\" class=\"dataframe\">\n",
       "  <thead>\n",
       "    <tr style=\"text-align: right;\">\n",
       "      <th></th>\n",
       "      <th>job_id</th>\n",
       "      <th>title</th>\n",
       "      <th>location</th>\n",
       "      <th>department</th>\n",
       "      <th>salary_range</th>\n",
       "      <th>company_profile</th>\n",
       "      <th>description</th>\n",
       "      <th>requirements</th>\n",
       "      <th>benefits</th>\n",
       "      <th>telecommuting</th>\n",
       "      <th>has_company_logo</th>\n",
       "      <th>has_questions</th>\n",
       "      <th>employment_type</th>\n",
       "      <th>required_experience</th>\n",
       "      <th>required_education</th>\n",
       "      <th>industry</th>\n",
       "      <th>function</th>\n",
       "      <th>fraudulent</th>\n",
       "    </tr>\n",
       "  </thead>\n",
       "  <tbody>\n",
       "    <tr>\n",
       "      <th>0</th>\n",
       "      <td>1</td>\n",
       "      <td>Marketing Intern</td>\n",
       "      <td>US, NY, New York</td>\n",
       "      <td>Marketing</td>\n",
       "      <td>NaN</td>\n",
       "      <td>We're Food52, and we've created a groundbreaki...</td>\n",
       "      <td>Food52, a fast-growing, James Beard Award-winn...</td>\n",
       "      <td>Experience with content management systems a m...</td>\n",
       "      <td>NaN</td>\n",
       "      <td>0</td>\n",
       "      <td>1</td>\n",
       "      <td>0</td>\n",
       "      <td>Other</td>\n",
       "      <td>Internship</td>\n",
       "      <td>NaN</td>\n",
       "      <td>NaN</td>\n",
       "      <td>Marketing</td>\n",
       "      <td>0</td>\n",
       "    </tr>\n",
       "    <tr>\n",
       "      <th>1</th>\n",
       "      <td>2</td>\n",
       "      <td>Customer Service - Cloud Video Production</td>\n",
       "      <td>NZ, , Auckland</td>\n",
       "      <td>Success</td>\n",
       "      <td>NaN</td>\n",
       "      <td>90 Seconds, the worlds Cloud Video Production ...</td>\n",
       "      <td>Organised - Focused - Vibrant - Awesome!Do you...</td>\n",
       "      <td>What we expect from you:Your key responsibilit...</td>\n",
       "      <td>What you will get from usThrough being part of...</td>\n",
       "      <td>0</td>\n",
       "      <td>1</td>\n",
       "      <td>0</td>\n",
       "      <td>Full-time</td>\n",
       "      <td>Not Applicable</td>\n",
       "      <td>NaN</td>\n",
       "      <td>Marketing and Advertising</td>\n",
       "      <td>Customer Service</td>\n",
       "      <td>0</td>\n",
       "    </tr>\n",
       "    <tr>\n",
       "      <th>2</th>\n",
       "      <td>3</td>\n",
       "      <td>Commissioning Machinery Assistant (CMA)</td>\n",
       "      <td>US, IA, Wever</td>\n",
       "      <td>NaN</td>\n",
       "      <td>NaN</td>\n",
       "      <td>Valor Services provides Workforce Solutions th...</td>\n",
       "      <td>Our client, located in Houston, is actively se...</td>\n",
       "      <td>Implement pre-commissioning and commissioning ...</td>\n",
       "      <td>NaN</td>\n",
       "      <td>0</td>\n",
       "      <td>1</td>\n",
       "      <td>0</td>\n",
       "      <td>NaN</td>\n",
       "      <td>NaN</td>\n",
       "      <td>NaN</td>\n",
       "      <td>NaN</td>\n",
       "      <td>NaN</td>\n",
       "      <td>0</td>\n",
       "    </tr>\n",
       "    <tr>\n",
       "      <th>3</th>\n",
       "      <td>4</td>\n",
       "      <td>Account Executive - Washington DC</td>\n",
       "      <td>US, DC, Washington</td>\n",
       "      <td>Sales</td>\n",
       "      <td>NaN</td>\n",
       "      <td>Our passion for improving quality of life thro...</td>\n",
       "      <td>THE COMPANY: ESRI – Environmental Systems Rese...</td>\n",
       "      <td>EDUCATION: Bachelor’s or Master’s in GIS, busi...</td>\n",
       "      <td>Our culture is anything but corporate—we have ...</td>\n",
       "      <td>0</td>\n",
       "      <td>1</td>\n",
       "      <td>0</td>\n",
       "      <td>Full-time</td>\n",
       "      <td>Mid-Senior level</td>\n",
       "      <td>Bachelor's Degree</td>\n",
       "      <td>Computer Software</td>\n",
       "      <td>Sales</td>\n",
       "      <td>0</td>\n",
       "    </tr>\n",
       "    <tr>\n",
       "      <th>4</th>\n",
       "      <td>5</td>\n",
       "      <td>Bill Review Manager</td>\n",
       "      <td>US, FL, Fort Worth</td>\n",
       "      <td>NaN</td>\n",
       "      <td>NaN</td>\n",
       "      <td>SpotSource Solutions LLC is a Global Human Cap...</td>\n",
       "      <td>JOB TITLE: Itemization Review ManagerLOCATION:...</td>\n",
       "      <td>QUALIFICATIONS:RN license in the State of Texa...</td>\n",
       "      <td>Full Benefits Offered</td>\n",
       "      <td>0</td>\n",
       "      <td>1</td>\n",
       "      <td>1</td>\n",
       "      <td>Full-time</td>\n",
       "      <td>Mid-Senior level</td>\n",
       "      <td>Bachelor's Degree</td>\n",
       "      <td>Hospital &amp; Health Care</td>\n",
       "      <td>Health Care Provider</td>\n",
       "      <td>0</td>\n",
       "    </tr>\n",
       "  </tbody>\n",
       "</table>\n",
       "</div>"
      ],
      "text/plain": [
       "   job_id                                      title            location  \\\n",
       "0       1                           Marketing Intern    US, NY, New York   \n",
       "1       2  Customer Service - Cloud Video Production      NZ, , Auckland   \n",
       "2       3    Commissioning Machinery Assistant (CMA)       US, IA, Wever   \n",
       "3       4          Account Executive - Washington DC  US, DC, Washington   \n",
       "4       5                        Bill Review Manager  US, FL, Fort Worth   \n",
       "\n",
       "  department salary_range                                    company_profile  \\\n",
       "0  Marketing          NaN  We're Food52, and we've created a groundbreaki...   \n",
       "1    Success          NaN  90 Seconds, the worlds Cloud Video Production ...   \n",
       "2        NaN          NaN  Valor Services provides Workforce Solutions th...   \n",
       "3      Sales          NaN  Our passion for improving quality of life thro...   \n",
       "4        NaN          NaN  SpotSource Solutions LLC is a Global Human Cap...   \n",
       "\n",
       "                                         description  \\\n",
       "0  Food52, a fast-growing, James Beard Award-winn...   \n",
       "1  Organised - Focused - Vibrant - Awesome!Do you...   \n",
       "2  Our client, located in Houston, is actively se...   \n",
       "3  THE COMPANY: ESRI – Environmental Systems Rese...   \n",
       "4  JOB TITLE: Itemization Review ManagerLOCATION:...   \n",
       "\n",
       "                                        requirements  \\\n",
       "0  Experience with content management systems a m...   \n",
       "1  What we expect from you:Your key responsibilit...   \n",
       "2  Implement pre-commissioning and commissioning ...   \n",
       "3  EDUCATION: Bachelor’s or Master’s in GIS, busi...   \n",
       "4  QUALIFICATIONS:RN license in the State of Texa...   \n",
       "\n",
       "                                            benefits  telecommuting  \\\n",
       "0                                                NaN              0   \n",
       "1  What you will get from usThrough being part of...              0   \n",
       "2                                                NaN              0   \n",
       "3  Our culture is anything but corporate—we have ...              0   \n",
       "4                              Full Benefits Offered              0   \n",
       "\n",
       "   has_company_logo  has_questions employment_type required_experience  \\\n",
       "0                 1              0           Other          Internship   \n",
       "1                 1              0       Full-time      Not Applicable   \n",
       "2                 1              0             NaN                 NaN   \n",
       "3                 1              0       Full-time    Mid-Senior level   \n",
       "4                 1              1       Full-time    Mid-Senior level   \n",
       "\n",
       "  required_education                   industry              function  \\\n",
       "0                NaN                        NaN             Marketing   \n",
       "1                NaN  Marketing and Advertising      Customer Service   \n",
       "2                NaN                        NaN                   NaN   \n",
       "3  Bachelor's Degree          Computer Software                 Sales   \n",
       "4  Bachelor's Degree     Hospital & Health Care  Health Care Provider   \n",
       "\n",
       "   fraudulent  \n",
       "0           0  \n",
       "1           0  \n",
       "2           0  \n",
       "3           0  \n",
       "4           0  "
      ]
     },
     "execution_count": 3,
     "metadata": {},
     "output_type": "execute_result"
    }
   ],
   "source": [
    "data = pd.read_csv('fake_job_postings.csv')\n",
    "data.head()"
   ]
  },
  {
   "cell_type": "code",
   "execution_count": 4,
   "id": "afdd346e",
   "metadata": {},
   "outputs": [
    {
     "data": {
      "text/plain": [
       "job_id                     0\n",
       "title                      0\n",
       "location                 346\n",
       "department             11547\n",
       "salary_range           15012\n",
       "company_profile         3308\n",
       "description                1\n",
       "requirements            2696\n",
       "benefits                7212\n",
       "telecommuting              0\n",
       "has_company_logo           0\n",
       "has_questions              0\n",
       "employment_type         3471\n",
       "required_experience     7050\n",
       "required_education      8105\n",
       "industry                4903\n",
       "function                6455\n",
       "fraudulent                 0\n",
       "dtype: int64"
      ]
     },
     "execution_count": 4,
     "metadata": {},
     "output_type": "execute_result"
    }
   ],
   "source": [
    "missing_values = data.isnull().sum()\n",
    "missing_values"
   ]
  },
  {
   "cell_type": "markdown",
   "id": "90a20801",
   "metadata": {},
   "source": [
    "* For `location`, `department`, `company_profile`, `description`, `requirements`, `benefits`, these columns are text-based and can be handled by filling missing values with an empty string ('') since they can vary widely.\n",
    "* For `employment_type`, `required_experience`, `required_education`, `industry`, `function`, these columns represent labels or categories. We should fill missing values with \"Unknown\" to signify an unspecified category.\n",
    "* For `salary_range`, which we’ll split into salary_lower and salary_upper columns, with missing values set to NaN."
   ]
  },
  {
   "cell_type": "code",
   "execution_count": 5,
   "id": "b6fc9331",
   "metadata": {},
   "outputs": [],
   "source": [
    "categorical_cols = ['employment_type', 'required_experience', 'required_education', 'industry', 'function']\n",
    "textual_cols = ['location', 'department', 'company_profile', 'description', 'requirements', 'benefits']\n",
    "salary_col = 'salary_range' "
   ]
  },
  {
   "cell_type": "code",
   "execution_count": 6,
   "id": "9af8bdc7",
   "metadata": {},
   "outputs": [],
   "source": [
    "data[categorical_cols] = data[categorical_cols].fillna('Unknown')\n",
    "data[textual_cols] = data[textual_cols].fillna('')"
   ]
  },
  {
   "cell_type": "markdown",
   "id": "25833604",
   "metadata": {},
   "source": [
    "* Here first create a column indicating if the salary range is valid and by a function called has_valid_salary\n",
    "* THen we define the function parse_salary_range to handle parsing, like transforming 10000-20000 to two variables which one is salary_lower and the other one being salary_upper, it would be 10000 and 20000 respectively."
   ]
  },
  {
   "cell_type": "code",
   "execution_count": 7,
   "id": "d259e022",
   "metadata": {},
   "outputs": [],
   "source": [
    "def has_valid_salary(salary):\n",
    "    if pd.isnull(salary) or salary == 'Unknown' or salary.strip() == '':\n",
    "        return 0\n",
    "    bounds = salary.split('-')\n",
    "    if len(bounds) == 2 and bounds[0].strip().isdigit() and bounds[1].strip().isdigit():\n",
    "        return 1\n",
    "    elif len(bounds) == 1 and bounds[0].strip().isdigit():\n",
    "        return 1\n",
    "    return 0\n",
    "\n",
    "data['has_valid_salary_range'] = data['salary_range'].apply(has_valid_salary)"
   ]
  },
  {
   "cell_type": "code",
   "execution_count": 8,
   "id": "64bcc4d7",
   "metadata": {},
   "outputs": [],
   "source": [
    "def parse_salary_range(salary):\n",
    "    if pd.isnull(salary) or salary == 'Unknown' or salary.strip() == '':\n",
    "        return np.nan, np.nan\n",
    "    bounds = salary.split('-')\n",
    "    try:\n",
    "        if len(bounds) == 2:\n",
    "            lower = int(bounds[0].strip())\n",
    "            upper = int(bounds[1].strip())\n",
    "        elif len(bounds) == 1:\n",
    "            lower = upper = int(bounds[0].strip())\n",
    "        else:\n",
    "            return np.nan, np.nan\n",
    "    except ValueError:\n",
    "        return np.nan, np.nan\n",
    "    return lower, upper"
   ]
  },
  {
   "cell_type": "markdown",
   "id": "c86cfe6d",
   "metadata": {},
   "source": [
    "* Here we apply the parsing function conditionally and assign to new columns\n",
    "* Then we convert the result to a DataFrame and assign it to `salary_lower` and `salary_upper`"
   ]
  },
  {
   "cell_type": "code",
   "execution_count": 9,
   "id": "01b8c632",
   "metadata": {},
   "outputs": [],
   "source": [
    "parsed_salaries = data['salary_range'].apply(\n",
    "    lambda x: parse_salary_range(x) if has_valid_salary(x) else (np.nan, np.nan))"
   ]
  },
  {
   "cell_type": "code",
   "execution_count": 10,
   "id": "f4e34571",
   "metadata": {},
   "outputs": [],
   "source": [
    "parsed_salary_df = pd.DataFrame(parsed_salaries.tolist(), columns=['salary_lower', 'salary_upper'])\n",
    "data[['salary_lower', 'salary_upper']] = parsed_salary_df"
   ]
  },
  {
   "cell_type": "markdown",
   "id": "1555f603",
   "metadata": {},
   "source": [
    "* Here we display examples where salary_range is not null"
   ]
  },
  {
   "cell_type": "code",
   "execution_count": 11,
   "id": "8a84d731",
   "metadata": {},
   "outputs": [
    {
     "name": "stdout",
     "output_type": "stream",
     "text": [
      "     salary_range  salary_lower  salary_upper  has_valid_salary_range\n",
      "6     20000-28000       20000.0       28000.0                       1\n",
      "10  100000-120000      100000.0      120000.0                       1\n",
      "15  120000-150000      120000.0      150000.0                       1\n",
      "23  100000-120000      100000.0      120000.0                       1\n",
      "31    50000-65000       50000.0       65000.0                       1\n",
      "42    40000-50000       40000.0       50000.0                       1\n",
      "65          60-80          60.0          80.0                       1\n",
      "76    65000-70000       65000.0       70000.0                       1\n",
      "77         75-115          75.0         115.0                       1\n",
      "79   75000-110000       75000.0      110000.0                       1\n"
     ]
    }
   ],
   "source": [
    "df_non_null_salary = data[data['salary_range'].notnull()][['salary_range', 'salary_lower', 'salary_upper','has_valid_salary_range']].head(10)\n",
    "print(df_non_null_salary)"
   ]
  },
  {
   "cell_type": "code",
   "execution_count": 12,
   "id": "f50c858e",
   "metadata": {},
   "outputs": [
    {
     "name": "stdout",
     "output_type": "stream",
     "text": [
      "job_id                        0\n",
      "title                         0\n",
      "location                      0\n",
      "department                    0\n",
      "salary_range              15012\n",
      "company_profile               0\n",
      "description                   0\n",
      "requirements                  0\n",
      "benefits                      0\n",
      "telecommuting                 0\n",
      "has_company_logo              0\n",
      "has_questions                 0\n",
      "employment_type               0\n",
      "required_experience           0\n",
      "required_education            0\n",
      "industry                      0\n",
      "function                      0\n",
      "fraudulent                    0\n",
      "has_valid_salary_range        0\n",
      "salary_lower              15038\n",
      "salary_upper              15038\n",
      "dtype: int64\n"
     ]
    }
   ],
   "source": [
    "print(data.isnull().sum())"
   ]
  },
  {
   "cell_type": "markdown",
   "id": "b558b0e5",
   "metadata": {},
   "source": [
    "Given the significance of the `salary_range` in predicting fraudulent job postings, it’s essential to capture whether a job listing lacks salary information. While we have attempted to parse and handle salary_range, the high volume of missing or improperly formatted values makes it impractical to impute this data accurately with median or mean values. Thus, our approach is:\n",
    "*  Instead of imputing `salary_lower` and `salary_upper`, we'll keep them as-is, with NaN indicating missing or unparseable salary data.\n",
    "* We created a binary column, `has_valid_salary_range`, which will be 1 for entries with valid salary data and 0 for entries with a missing or invalid salary_range. We implement this as the fact that there is no salary range information itself can be useful information in predicting for fraud.\n",
    "* We will create a seperate pre-processor dropping the NAN salary range for using SMOTE"
   ]
  },
  {
   "cell_type": "markdown",
   "id": "b62e0c8d",
   "metadata": {},
   "source": [
    "* Here we splited the location column into country, state, and city columns to help us identify patterns specific to certain locations"
   ]
  },
  {
   "cell_type": "code",
   "execution_count": 13,
   "id": "af97c167",
   "metadata": {},
   "outputs": [
    {
     "name": "stdout",
     "output_type": "stream",
     "text": [
      "             location country    state        city\n",
      "0    US, NY, New York      US       NY    New York\n",
      "1      NZ, , Auckland      NZ  Unknown    Auckland\n",
      "2       US, IA, Wever      US       IA       Wever\n",
      "3  US, DC, Washington      US       DC  Washington\n",
      "4  US, FL, Fort Worth      US       FL  Fort Worth\n"
     ]
    }
   ],
   "source": [
    "location_split = data['location'].str.split(',', expand=True)\n",
    "data['country'] = location_split[0].str.strip()\n",
    "data['state'] = location_split[1].str.strip().replace('', 'Unknown')\n",
    "data['city'] = location_split[2].str.strip().replace('', 'Unknown') if location_split.shape[1] > 2 else 'Unknown'\n",
    "data['city'] = data['city'].str.split('|').str[-1].str.strip()\n",
    "print(data[['location', 'country', 'state', 'city']].head())"
   ]
  },
  {
   "cell_type": "markdown",
   "id": "b486209a",
   "metadata": {},
   "source": [
    "* Add another column called `salary_variance` to calculate the difference between salary_upper and salary_lower as a feature, where listings with no range (e.g., 50000-50000) might differ in legitimacy from those with broader ranges.\n"
   ]
  },
  {
   "cell_type": "code",
   "execution_count": 14,
   "id": "e31bf041",
   "metadata": {},
   "outputs": [],
   "source": [
    "data['salary_variance'] = data['salary_upper'] - data['salary_lower']"
   ]
  },
  {
   "cell_type": "code",
   "execution_count": 15,
   "id": "958447c1",
   "metadata": {},
   "outputs": [],
   "source": [
    "data = data.drop('salary_range', axis=1)"
   ]
  },
  {
   "cell_type": "markdown",
   "id": "07792eb8",
   "metadata": {},
   "source": [
    "Now applying all these cleaning and encoding techniques as part of our preprocess step"
   ]
  },
  {
   "cell_type": "code",
   "execution_count": 16,
   "id": "77e5815e",
   "metadata": {},
   "outputs": [],
   "source": [
    "one_hot_features = ['employment_type',\"has_valid_salary_range\"]           # Low-cardinality, unordered features\n",
    "target_encoding_features = ['state', 'city', 'country','industry', 'function', 'department']  # High-cardinality, unordered features\n",
    "ordinal_features = ['required_experience', 'required_education']  # Ordered features with natural rank\n",
    "num_features = ['salary_lower', 'salary_upper', 'salary_variance']  # Numerical features for scaling\n",
    "\n",
    "preprocess = make_column_transformer(\n",
    "    (OneHotEncoder(drop='first', handle_unknown=\"ignore\"), one_hot_features),\n",
    "    (TargetEncoder(), target_encoding_features),\n",
    "    (OrdinalEncoder(), ordinal_features),\n",
    "    (StandardScaler(), num_features),\n",
    "    remainder='drop')\n",
    "\n",
    "preprocess_smote = make_column_transformer(\n",
    "    (OneHotEncoder(drop='first', handle_unknown=\"ignore\"), one_hot_features),\n",
    "    (TargetEncoder(), target_encoding_features),\n",
    "    (OrdinalEncoder(), ordinal_features),\n",
    "    remainder='drop')\n"
   ]
  },
  {
   "cell_type": "markdown",
   "id": "e5fa78f2",
   "metadata": {},
   "source": [
    "### Sampling\n",
    "\n",
    "For sampling, we want to see cross compare different sampling strategies, given the dataset is heavily inbalanced, as shown in the graph below"
   ]
  },
  {
   "cell_type": "code",
   "execution_count": 17,
   "id": "ee8ff4bb",
   "metadata": {},
   "outputs": [
    {
     "data": {
      "image/png": "[encoded data removed]",
      "text/plain": [
       "<Figure size 640x480 with 1 Axes>"
      ]
     },
     "metadata": {},
     "output_type": "display_data"
    }
   ],
   "source": [
    "def show_counts(ax):\n",
    "    for p in ax.patches:\n",
    "        ax.annotate(format(int(p.get_height()), ','),\n",
    "                   (p.get_x() + p.get_width()/2., p.get_height()),\n",
    "                   ha='center',\n",
    "                   va='center',  # Change to 'bottom' to place above bars\n",
    "                   xytext=(0, 5),  # 5 points vertical offset\n",
    "                   textcoords='offset points')\n",
    "\n",
    "ax = sns.countplot(x='fraudulent', data=data)\n",
    "show_counts(ax)\n",
    "plt.show()"
   ]
  },
  {
   "cell_type": "markdown",
   "id": "6e788a83",
   "metadata": {},
   "source": [
    "In particular, we will compare the performance between four imbalance pipelines related to the four different sampling strateiges: `oversampling_pipe`, `undersampling_pipe`, `smote_pipe`, and `balanced_tree_pipe`, which is only applicable for decision tree based models.\n",
    "\n",
    "Now, we will split the data and create these four pipelines. We will lean on RandomForest Classifier as the main classifier - thus here we will be experimenting and selecting based on the results of the sampling techniques using Randomforest as a classifier.\n",
    "\n",
    "Given this is a fraud detection task, we will lean on recall as the key performing metric. Although, depending on the post-fraud-detection process of the website, a low precision score might be disruptive too; for example, we do not have 20% of the job posting to get taken down. Therefore, we will also look at F1 to make a balanced decision on which sampling technique to use."
   ]
  },
  {
   "cell_type": "code",
   "execution_count": 18,
   "id": "c54282a4",
   "metadata": {},
   "outputs": [],
   "source": [
    "y = data['fraudulent']\n",
    "X = data.drop('fraudulent', axis=1)\n",
    "X_dev, X_test, y_dev, y_test = train_test_split(X, y, test_size=0.2, random_state=42,stratify=data['fraudulent'])"
   ]
  },
  {
   "cell_type": "code",
   "execution_count": 19,
   "id": "628154e1",
   "metadata": {},
   "outputs": [],
   "source": [
    "balanced_tree = RandomForestClassifier(max_depth=10, random_state=42, class_weight='balanced')\n",
    "regualar_tree = RandomForestClassifier(max_depth=10, random_state=42)\n",
    "\n",
    "oversampling_pipe = imb_make_pipeline(\n",
    "    preprocess,\n",
    "    RandomOverSampler(random_state=42),\n",
    "    regualar_tree\n",
    ")\n",
    "undersampling_pipe = imb_make_pipeline(\n",
    "    preprocess,\n",
    "    RandomUnderSampler(random_state=42),\n",
    "    regualar_tree\n",
    ")\n",
    "smote_pipe = imb_make_pipeline(\n",
    "    preprocess_smote,\n",
    "    SMOTE(random_state=42),\n",
    "    regualar_tree\n",
    ")\n",
    "balanced_tree_pipe = imb_make_pipeline(\n",
    "    preprocess,\n",
    "    balanced_tree\n",
    ")"
   ]
  },
  {
   "cell_type": "markdown",
   "id": "aeca04e9",
   "metadata": {},
   "source": [
    "Now - we will see the performance of each of the strategies on both validation and test data"
   ]
  },
  {
   "cell_type": "code",
   "execution_count": 20,
   "id": "c1684027",
   "metadata": {},
   "outputs": [
    {
     "data": {
      "text/html": [
       "<div>\n",
       "<style scoped>\n",
       "    .dataframe tbody tr th:only-of-type {\n",
       "        vertical-align: middle;\n",
       "    }\n",
       "\n",
       "    .dataframe tbody tr th {\n",
       "        vertical-align: top;\n",
       "    }\n",
       "\n",
       "    .dataframe thead th {\n",
       "        text-align: right;\n",
       "    }\n",
       "</style>\n",
       "<table border=\"1\" class=\"dataframe\">\n",
       "  <thead>\n",
       "    <tr style=\"text-align: right;\">\n",
       "      <th></th>\n",
       "      <th>Balanced Tree</th>\n",
       "      <th>Oversampling</th>\n",
       "      <th>Undersampling</th>\n",
       "      <th>SMOTE</th>\n",
       "    </tr>\n",
       "  </thead>\n",
       "  <tbody>\n",
       "    <tr>\n",
       "      <th>recall</th>\n",
       "      <td>0.763006</td>\n",
       "      <td>0.757225</td>\n",
       "      <td>0.843931</td>\n",
       "      <td>0.832370</td>\n",
       "    </tr>\n",
       "    <tr>\n",
       "      <th>precision</th>\n",
       "      <td>0.364641</td>\n",
       "      <td>0.313397</td>\n",
       "      <td>0.266423</td>\n",
       "      <td>0.202817</td>\n",
       "    </tr>\n",
       "    <tr>\n",
       "      <th>f1</th>\n",
       "      <td>0.493458</td>\n",
       "      <td>0.443316</td>\n",
       "      <td>0.404993</td>\n",
       "      <td>0.326161</td>\n",
       "    </tr>\n",
       "    <tr>\n",
       "      <th>test_roc_auc</th>\n",
       "      <td>0.847709</td>\n",
       "      <td>0.836444</td>\n",
       "      <td>0.862900</td>\n",
       "      <td>0.833023</td>\n",
       "    </tr>\n",
       "  </tbody>\n",
       "</table>\n",
       "</div>"
      ],
      "text/plain": [
       "              Balanced Tree  Oversampling  Undersampling     SMOTE\n",
       "recall             0.763006      0.757225       0.843931  0.832370\n",
       "precision          0.364641      0.313397       0.266423  0.202817\n",
       "f1                 0.493458      0.443316       0.404993  0.326161\n",
       "test_roc_auc       0.847709      0.836444       0.862900  0.833023"
      ]
     },
     "execution_count": 20,
     "metadata": {},
     "output_type": "execute_result"
    }
   ],
   "source": [
    "test_scores = {}\n",
    "techniques = [\"Balanced Tree\", \"Oversampling\", \"Undersampling\", \"SMOTE\"]\n",
    "for name, pipeline in zip(techniques, [balanced_tree_pipe, oversampling_pipe, undersampling_pipe, smote_pipe]):\n",
    "    pipeline.fit(X_dev, y_dev)\n",
    "    y_pred = pipeline.predict(X_test)\n",
    "    cm = confusion_matrix(y_test, y_pred)\n",
    "    recall = cm[1, 1] / (cm[1, 0] + cm[1, 1])\n",
    "    precision = cm[1, 1] / (cm[0, 1] + cm[1, 1])\n",
    "    test_scores[name] = {\"recall\": recall, \"precision\": precision, \"f1\": 2 * (precision * recall) / (precision + recall), \"test_roc_auc\": roc_auc_score(y_test, y_pred)}\n",
    "pd.DataFrame(test_scores)"
   ]
  },
  {
   "cell_type": "markdown",
   "id": "3b946b92",
   "metadata": {},
   "source": [
    "It seems like undersamplng is the most robust technique providing the higest recall and roc_auc, without taking textual data into consideration"
   ]
  },
  {
   "cell_type": "markdown",
   "id": "c83af8cc",
   "metadata": {},
   "source": [
    "## Model Fitting\n",
    "\n",
    "Now - we will fit a model using RandomForestClassifer and Undersampling technique, and hyper-parameter tune for the best model. We will select `max_depth`, `n_estimators`\n"
   ]
  },
  {
   "cell_type": "code",
   "execution_count": 21,
   "id": "fec21631",
   "metadata": {},
   "outputs": [
    {
     "name": "stdout",
     "output_type": "stream",
     "text": [
      "    max_depth  n_estimators    recall  precision        f1\n",
      "66         12            40  0.849711   0.279468  0.420601\n",
      "    max_depth  n_estimators    recall  precision        f1\n",
      "66         12            40  0.849711   0.279468  0.420601\n",
      "    max_depth  n_estimators    recall  precision        f1\n",
      "79         13            80  0.878613   0.248366  0.387261\n"
     ]
    }
   ],
   "source": [
    "max_depths = range(5, 15) \n",
    "n_estimators = range(10, 100, 10)\n",
    "\n",
    "best_params = {}\n",
    "results = []\n",
    "\n",
    "for i, depth in enumerate(max_depths):\n",
    "    for i, n in enumerate(n_estimators):\n",
    "    \n",
    "        pipe = imb_make_pipeline(preprocess, \n",
    "                                 RandomUnderSampler(random_state=42),\n",
    "                                 RandomForestClassifier(criterion='entropy', max_depth=depth, n_estimators = n ,random_state=0))\n",
    "        pipe.fit(X_dev, y_dev)\n",
    "        y_pred = pipe.predict(X_test)\n",
    "        cm = confusion_matrix(y_test, y_pred)\n",
    "        _recall = cm[1, 1] / (cm[1, 0] + cm[1, 1])\n",
    "        _precision = cm[1, 1] / (cm[0, 1] + cm[1, 1])\n",
    "        _f1 = 2 * (_precision * _recall) / (_precision + _recall)\n",
    "        results.append({\n",
    "            'max_depth': depth,\n",
    "            'n_estimators': n,\n",
    "            'recall': _recall,\n",
    "            'precision': _precision,\n",
    "            'f1': _f1\n",
    "        })\n",
    "        \n",
    "best_f1_parameters = pd.DataFrame(results).sort_values('f1', ascending=False).head(1)\n",
    "best_precision_parameters = pd.DataFrame(results).sort_values('precision', ascending=False).head(1)\n",
    "best_recall_parameters = pd.DataFrame(results).sort_values('recall', ascending=False).head(1)\n",
    "\n",
    "print(best_f1_parameters)\n",
    "print(best_precision_parameters)\n",
    "print(best_recall_parameters)"
   ]
  },
  {
   "cell_type": "markdown",
   "id": "00555640",
   "metadata": {},
   "source": [
    "Based on the results, we'd lean more on the performance of recall and choose the hyperparameters `max_depth = 13`, `n_estimators = 80`\n"
   ]
  }
 ],
 "metadata": {
  "kernelspec": {
   "display_name": ".venv",
   "language": "python",
   "name": "python3"
  },
  "language_info": {
   "codemirror_mode": {
    "name": "ipython",
    "version": 3
   },
   "file_extension": ".py",
   "mimetype": "text/x-python",
   "name": "python",
   "nbconvert_exporter": "python",
   "pygments_lexer": "ipython3",
   "version": "3.10.11"
  }
 },
 "nbformat": 4,
 "nbformat_minor": 5
}
